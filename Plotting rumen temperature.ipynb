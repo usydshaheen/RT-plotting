{
 "cells": [
  {
   "cell_type": "markdown",
   "id": "d6f65258",
   "metadata": {},
   "source": [
    "# Plotting rumen temperature"
   ]
  },
  {
   "cell_type": "code",
   "execution_count": 1,
   "id": "eeccc14e",
   "metadata": {},
   "outputs": [],
   "source": [
    "import pandas as pd\n",
    "import matplotlib.pyplot as plt\n",
    "import numpy as np"
   ]
  },
  {
   "cell_type": "code",
   "execution_count": 2,
   "id": "7b899a8f",
   "metadata": {},
   "outputs": [],
   "source": [
    "df = pd.read_csv(\"CAAS2065.csv\") # read csv of a single animal- ID no 2065"
   ]
  },
  {
   "cell_type": "code",
   "execution_count": 3,
   "id": "70973edb",
   "metadata": {},
   "outputs": [
    {
     "data": {
      "text/html": [
       "<div>\n",
       "<style scoped>\n",
       "    .dataframe tbody tr th:only-of-type {\n",
       "        vertical-align: middle;\n",
       "    }\n",
       "\n",
       "    .dataframe tbody tr th {\n",
       "        vertical-align: top;\n",
       "    }\n",
       "\n",
       "    .dataframe thead th {\n",
       "        text-align: right;\n",
       "    }\n",
       "</style>\n",
       "<table border=\"1\" class=\"dataframe\">\n",
       "  <thead>\n",
       "    <tr style=\"text-align: right;\">\n",
       "      <th></th>\n",
       "      <th>Count</th>\n",
       "      <th>Date</th>\n",
       "      <th>Time</th>\n",
       "      <th>RumenT</th>\n",
       "    </tr>\n",
       "  </thead>\n",
       "  <tbody>\n",
       "    <tr>\n",
       "      <th>0</th>\n",
       "      <td>3897</td>\n",
       "      <td>22-Nov-12</td>\n",
       "      <td>12:31:05</td>\n",
       "      <td>30.56</td>\n",
       "    </tr>\n",
       "    <tr>\n",
       "      <th>1</th>\n",
       "      <td>3898</td>\n",
       "      <td>22-Nov-12</td>\n",
       "      <td>12:39:48</td>\n",
       "      <td>30.56</td>\n",
       "    </tr>\n",
       "    <tr>\n",
       "      <th>2</th>\n",
       "      <td>3899</td>\n",
       "      <td>22-Nov-12</td>\n",
       "      <td>12:48:50</td>\n",
       "      <td>30.56</td>\n",
       "    </tr>\n",
       "    <tr>\n",
       "      <th>3</th>\n",
       "      <td>3900</td>\n",
       "      <td>22-Nov-12</td>\n",
       "      <td>12:57:51</td>\n",
       "      <td>30.56</td>\n",
       "    </tr>\n",
       "    <tr>\n",
       "      <th>4</th>\n",
       "      <td>3901</td>\n",
       "      <td>22-Nov-12</td>\n",
       "      <td>13:06:45</td>\n",
       "      <td>30.56</td>\n",
       "    </tr>\n",
       "  </tbody>\n",
       "</table>\n",
       "</div>"
      ],
      "text/plain": [
       "   Count       Date      Time  RumenT\n",
       "0   3897  22-Nov-12  12:31:05   30.56\n",
       "1   3898  22-Nov-12  12:39:48   30.56\n",
       "2   3899  22-Nov-12  12:48:50   30.56\n",
       "3   3900  22-Nov-12  12:57:51   30.56\n",
       "4   3901  22-Nov-12  13:06:45   30.56"
      ]
     },
     "execution_count": 3,
     "metadata": {},
     "output_type": "execute_result"
    }
   ],
   "source": [
    "df.head()"
   ]
  },
  {
   "cell_type": "code",
   "execution_count": 4,
   "id": "468e20b6",
   "metadata": {},
   "outputs": [
    {
     "name": "stdout",
     "output_type": "stream",
     "text": [
      "<class 'pandas.core.frame.DataFrame'>\n",
      "RangeIndex: 18940 entries, 0 to 18939\n",
      "Data columns (total 4 columns):\n",
      " #   Column  Non-Null Count  Dtype  \n",
      "---  ------  --------------  -----  \n",
      " 0   Count   18940 non-null  int64  \n",
      " 1   Date    18940 non-null  object \n",
      " 2   Time    18940 non-null  object \n",
      " 3   RumenT  18940 non-null  float64\n",
      "dtypes: float64(1), int64(1), object(2)\n",
      "memory usage: 592.0+ KB\n"
     ]
    }
   ],
   "source": [
    "df.info()"
   ]
  },
  {
   "cell_type": "code",
   "execution_count": 5,
   "id": "8fd5c677",
   "metadata": {},
   "outputs": [],
   "source": [
    " import datetime"
   ]
  },
  {
   "cell_type": "code",
   "execution_count": 9,
   "id": "705b8033",
   "metadata": {},
   "outputs": [],
   "source": [
    "# Converting date to timestamp and set as index\n",
    "df1 = pd.read_csv(\"CAAS2065.csv\", parse_dates=[\"Date\"], index_col = \"Date\")"
   ]
  },
  {
   "cell_type": "code",
   "execution_count": 10,
   "id": "e71c8d9c",
   "metadata": {},
   "outputs": [
    {
     "data": {
      "text/html": [
       "<div>\n",
       "<style scoped>\n",
       "    .dataframe tbody tr th:only-of-type {\n",
       "        vertical-align: middle;\n",
       "    }\n",
       "\n",
       "    .dataframe tbody tr th {\n",
       "        vertical-align: top;\n",
       "    }\n",
       "\n",
       "    .dataframe thead th {\n",
       "        text-align: right;\n",
       "    }\n",
       "</style>\n",
       "<table border=\"1\" class=\"dataframe\">\n",
       "  <thead>\n",
       "    <tr style=\"text-align: right;\">\n",
       "      <th></th>\n",
       "      <th>Count</th>\n",
       "      <th>Time</th>\n",
       "      <th>RumenT</th>\n",
       "    </tr>\n",
       "    <tr>\n",
       "      <th>Date</th>\n",
       "      <th></th>\n",
       "      <th></th>\n",
       "      <th></th>\n",
       "    </tr>\n",
       "  </thead>\n",
       "  <tbody>\n",
       "    <tr>\n",
       "      <th>2012-11-22</th>\n",
       "      <td>3897</td>\n",
       "      <td>12:31:05</td>\n",
       "      <td>30.56</td>\n",
       "    </tr>\n",
       "    <tr>\n",
       "      <th>2012-11-22</th>\n",
       "      <td>3898</td>\n",
       "      <td>12:39:48</td>\n",
       "      <td>30.56</td>\n",
       "    </tr>\n",
       "    <tr>\n",
       "      <th>2012-11-22</th>\n",
       "      <td>3899</td>\n",
       "      <td>12:48:50</td>\n",
       "      <td>30.56</td>\n",
       "    </tr>\n",
       "    <tr>\n",
       "      <th>2012-11-22</th>\n",
       "      <td>3900</td>\n",
       "      <td>12:57:51</td>\n",
       "      <td>30.56</td>\n",
       "    </tr>\n",
       "    <tr>\n",
       "      <th>2012-11-22</th>\n",
       "      <td>3901</td>\n",
       "      <td>13:06:45</td>\n",
       "      <td>30.56</td>\n",
       "    </tr>\n",
       "  </tbody>\n",
       "</table>\n",
       "</div>"
      ],
      "text/plain": [
       "            Count      Time  RumenT\n",
       "Date                               \n",
       "2012-11-22   3897  12:31:05   30.56\n",
       "2012-11-22   3898  12:39:48   30.56\n",
       "2012-11-22   3899  12:48:50   30.56\n",
       "2012-11-22   3900  12:57:51   30.56\n",
       "2012-11-22   3901  13:06:45   30.56"
      ]
     },
     "execution_count": 10,
     "metadata": {},
     "output_type": "execute_result"
    }
   ],
   "source": [
    "df1.head()"
   ]
  },
  {
   "cell_type": "code",
   "execution_count": 11,
   "id": "c7622e78",
   "metadata": {},
   "outputs": [
    {
     "name": "stdout",
     "output_type": "stream",
     "text": [
      "<class 'pandas.core.frame.DataFrame'>\n",
      "DatetimeIndex: 18940 entries, 2012-11-22 to 2013-04-14\n",
      "Data columns (total 3 columns):\n",
      " #   Column  Non-Null Count  Dtype  \n",
      "---  ------  --------------  -----  \n",
      " 0   Count   18940 non-null  int64  \n",
      " 1   Time    18940 non-null  object \n",
      " 2   RumenT  18940 non-null  float64\n",
      "dtypes: float64(1), int64(1), object(1)\n",
      "memory usage: 591.9+ KB\n"
     ]
    }
   ],
   "source": [
    "df1.info()"
   ]
  },
  {
   "cell_type": "code",
   "execution_count": 13,
   "id": "09a90f8b",
   "metadata": {},
   "outputs": [
    {
     "data": {
      "text/plain": [
       "DatetimeIndex(['2012-11-22', '2012-11-22', '2012-11-22', '2012-11-22',\n",
       "               '2012-11-22', '2012-11-22', '2012-11-22', '2012-11-22',\n",
       "               '2012-11-22', '2012-11-22',\n",
       "               ...\n",
       "               '2013-04-14', '2013-04-14', '2013-04-14', '2013-04-14',\n",
       "               '2013-04-14', '2013-04-14', '2013-04-14', '2013-04-14',\n",
       "               '2013-04-14', '2013-04-14'],\n",
       "              dtype='datetime64[ns]', name='Date', length=18940, freq=None)"
      ]
     },
     "execution_count": 13,
     "metadata": {},
     "output_type": "execute_result"
    }
   ],
   "source": [
    "df1.index"
   ]
  },
  {
   "cell_type": "code",
   "execution_count": 15,
   "id": "e7aee5a4",
   "metadata": {},
   "outputs": [
    {
     "data": {
      "text/html": [
       "<div>\n",
       "<style scoped>\n",
       "    .dataframe tbody tr th:only-of-type {\n",
       "        vertical-align: middle;\n",
       "    }\n",
       "\n",
       "    .dataframe tbody tr th {\n",
       "        vertical-align: top;\n",
       "    }\n",
       "\n",
       "    .dataframe thead th {\n",
       "        text-align: right;\n",
       "    }\n",
       "</style>\n",
       "<table border=\"1\" class=\"dataframe\">\n",
       "  <thead>\n",
       "    <tr style=\"text-align: right;\">\n",
       "      <th></th>\n",
       "      <th>Count</th>\n",
       "      <th>Time</th>\n",
       "      <th>RumenT</th>\n",
       "    </tr>\n",
       "    <tr>\n",
       "      <th>Date</th>\n",
       "      <th></th>\n",
       "      <th></th>\n",
       "      <th></th>\n",
       "    </tr>\n",
       "  </thead>\n",
       "  <tbody>\n",
       "    <tr>\n",
       "      <th>2012-11-22</th>\n",
       "      <td>3897</td>\n",
       "      <td>12:31:05</td>\n",
       "      <td>30.56</td>\n",
       "    </tr>\n",
       "    <tr>\n",
       "      <th>2012-11-22</th>\n",
       "      <td>3898</td>\n",
       "      <td>12:39:48</td>\n",
       "      <td>30.56</td>\n",
       "    </tr>\n",
       "    <tr>\n",
       "      <th>2012-11-22</th>\n",
       "      <td>3899</td>\n",
       "      <td>12:48:50</td>\n",
       "      <td>30.56</td>\n",
       "    </tr>\n",
       "    <tr>\n",
       "      <th>2012-11-22</th>\n",
       "      <td>3900</td>\n",
       "      <td>12:57:51</td>\n",
       "      <td>30.56</td>\n",
       "    </tr>\n",
       "    <tr>\n",
       "      <th>2012-11-22</th>\n",
       "      <td>3901</td>\n",
       "      <td>13:06:45</td>\n",
       "      <td>30.56</td>\n",
       "    </tr>\n",
       "    <tr>\n",
       "      <th>...</th>\n",
       "      <td>...</td>\n",
       "      <td>...</td>\n",
       "      <td>...</td>\n",
       "    </tr>\n",
       "    <tr>\n",
       "      <th>2012-11-22</th>\n",
       "      <td>3967</td>\n",
       "      <td>23:17:09</td>\n",
       "      <td>40.56</td>\n",
       "    </tr>\n",
       "    <tr>\n",
       "      <th>2012-11-22</th>\n",
       "      <td>3968</td>\n",
       "      <td>23:26:32</td>\n",
       "      <td>40.56</td>\n",
       "    </tr>\n",
       "    <tr>\n",
       "      <th>2012-11-22</th>\n",
       "      <td>3969</td>\n",
       "      <td>23:35:54</td>\n",
       "      <td>40.56</td>\n",
       "    </tr>\n",
       "    <tr>\n",
       "      <th>2012-11-22</th>\n",
       "      <td>3970</td>\n",
       "      <td>23:45:16</td>\n",
       "      <td>40.56</td>\n",
       "    </tr>\n",
       "    <tr>\n",
       "      <th>2012-11-22</th>\n",
       "      <td>3971</td>\n",
       "      <td>23:54:47</td>\n",
       "      <td>40.56</td>\n",
       "    </tr>\n",
       "  </tbody>\n",
       "</table>\n",
       "<p>75 rows × 3 columns</p>\n",
       "</div>"
      ],
      "text/plain": [
       "            Count      Time  RumenT\n",
       "Date                               \n",
       "2012-11-22   3897  12:31:05   30.56\n",
       "2012-11-22   3898  12:39:48   30.56\n",
       "2012-11-22   3899  12:48:50   30.56\n",
       "2012-11-22   3900  12:57:51   30.56\n",
       "2012-11-22   3901  13:06:45   30.56\n",
       "...           ...       ...     ...\n",
       "2012-11-22   3967  23:17:09   40.56\n",
       "2012-11-22   3968  23:26:32   40.56\n",
       "2012-11-22   3969  23:35:54   40.56\n",
       "2012-11-22   3970  23:45:16   40.56\n",
       "2012-11-22   3971  23:54:47   40.56\n",
       "\n",
       "[75 rows x 3 columns]"
      ]
     },
     "execution_count": 15,
     "metadata": {},
     "output_type": "execute_result"
    }
   ],
   "source": [
    "df1.loc['2012-11-22'] # access to particualr date"
   ]
  },
  {
   "cell_type": "code",
   "execution_count": 16,
   "id": "265b3e41",
   "metadata": {},
   "outputs": [
    {
     "data": {
      "text/plain": [
       "37.399999999999956"
      ]
     },
     "execution_count": 16,
     "metadata": {},
     "output_type": "execute_result"
    }
   ],
   "source": [
    "df1.loc['2012-11-22'].RumenT.mean() # mean rumen temperature on 22 Nov 2012"
   ]
  },
  {
   "cell_type": "code",
   "execution_count": 17,
   "id": "9214d9c4",
   "metadata": {},
   "outputs": [
    {
     "data": {
      "text/plain": [
       "Date\n",
       "2012-11-30    39.945150\n",
       "2012-12-31    39.993373\n",
       "2013-01-31    40.406170\n",
       "2013-02-28    40.043110\n",
       "2013-03-31    40.218364\n",
       "2013-04-30    40.403041\n",
       "Freq: M, Name: RumenT, dtype: float64"
      ]
     },
     "execution_count": 17,
     "metadata": {},
     "output_type": "execute_result"
    }
   ],
   "source": [
    "df1.RumenT.resample(\"M\").mean() # monthly mean rumen temperature "
   ]
  },
  {
   "cell_type": "code",
   "execution_count": 18,
   "id": "e1be5fbf",
   "metadata": {},
   "outputs": [
    {
     "ename": "AttributeError",
     "evalue": "'float' object has no attribute 'plot'",
     "output_type": "error",
     "traceback": [
      "\u001b[1;31m---------------------------------------------------------------------------\u001b[0m",
      "\u001b[1;31mAttributeError\u001b[0m                            Traceback (most recent call last)",
      "Input \u001b[1;32mIn [18]\u001b[0m, in \u001b[0;36m<cell line: 1>\u001b[1;34m()\u001b[0m\n\u001b[1;32m----> 1\u001b[0m \u001b[43mdf1\u001b[49m\u001b[38;5;241;43m.\u001b[39;49m\u001b[43mloc\u001b[49m\u001b[43m[\u001b[49m\u001b[38;5;124;43m'\u001b[39;49m\u001b[38;5;124;43m2012-11-22\u001b[39;49m\u001b[38;5;124;43m'\u001b[39;49m\u001b[43m]\u001b[49m\u001b[38;5;241;43m.\u001b[39;49m\u001b[43mRumenT\u001b[49m\u001b[38;5;241;43m.\u001b[39;49m\u001b[43mmean\u001b[49m\u001b[43m(\u001b[49m\u001b[43m)\u001b[49m\u001b[38;5;241;43m.\u001b[39;49m\u001b[43mplot\u001b[49m()\n",
      "\u001b[1;31mAttributeError\u001b[0m: 'float' object has no attribute 'plot'"
     ]
    }
   ],
   "source": [
    "df1.loc['2012-11-22'].RumenT.mean().plot() # trying to plot rumen temperature of a particular date but....!!"
   ]
  },
  {
   "cell_type": "code",
   "execution_count": 19,
   "id": "394c9e93",
   "metadata": {},
   "outputs": [
    {
     "data": {
      "text/plain": [
       "<AxesSubplot:xlabel='Date'>"
      ]
     },
     "execution_count": 19,
     "metadata": {},
     "output_type": "execute_result"
    },
    {
     "data": {
      "image/png": "[encoded data removed]",
      "text/plain": [
       "<Figure size 432x288 with 1 Axes>"
      ]
     },
     "metadata": {
      "needs_background": "light"
     },
     "output_type": "display_data"
    }
   ],
   "source": [
    "df1.RumenT.resample(\"M\").mean().plot() # Its a monthly mean rumen temp but I dont want that!"
   ]
  },
  {
   "cell_type": "code",
   "execution_count": 20,
   "id": "ef9acbb2",
   "metadata": {},
   "outputs": [
    {
     "data": {
      "text/plain": [
       "<AxesSubplot:xlabel='Date'>"
      ]
     },
     "execution_count": 20,
     "metadata": {},
     "output_type": "execute_result"
    },
    {
     "data": {
      "image/png": "[encoded data removed]",
      "text/plain": [
       "<Figure size 432x288 with 1 Axes>"
      ]
     },
     "metadata": {
      "needs_background": "light"
     },
     "output_type": "display_data"
    }
   ],
   "source": [
    "df1.RumenT.resample(\"B\").mean().plot() # Its a daily mean rumen temperature accross the period but I am not looking for this"
   ]
  },
  {
   "cell_type": "markdown",
   "id": "91f9e345",
   "metadata": {},
   "source": [
    "# converting hourly mean rumen temperature from minute intervals"
   ]
  },
  {
   "cell_type": "code",
   "execution_count": 34,
   "id": "82a70754",
   "metadata": {},
   "outputs": [],
   "source": [
    "df2 = pd.read_csv('CAAS2065.csv') "
   ]
  },
  {
   "cell_type": "code",
   "execution_count": 35,
   "id": "a73f48b5",
   "metadata": {},
   "outputs": [],
   "source": [
    "df2['timestamp'] = pd.to_datetime(df2['Date'])\n"
   ]
  },
  {
   "cell_type": "code",
   "execution_count": 24,
   "id": "842cd2d3",
   "metadata": {},
   "outputs": [],
   "source": [
    "# convert hourly mean from minute interval \n",
    "hourly_data = df2.resample('1H', on='timestamp').mean()\n"
   ]
  },
  {
   "cell_type": "code",
   "execution_count": 25,
   "id": "69b85f5e",
   "metadata": {},
   "outputs": [],
   "source": [
    "#save the new csv file containing hourly mean\n",
    "hourly_data.to_csv('hourly_temperature_data.csv')"
   ]
  },
  {
   "cell_type": "code",
   "execution_count": 26,
   "id": "54617ab8",
   "metadata": {},
   "outputs": [],
   "source": [
    "#read the new csv file\n",
    "dfh = pd.read_csv('hourly_temperature_data.csv')"
   ]
  },
  {
   "cell_type": "code",
   "execution_count": 27,
   "id": "6d7a27aa",
   "metadata": {},
   "outputs": [
    {
     "data": {
      "text/html": [
       "<div>\n",
       "<style scoped>\n",
       "    .dataframe tbody tr th:only-of-type {\n",
       "        vertical-align: middle;\n",
       "    }\n",
       "\n",
       "    .dataframe tbody tr th {\n",
       "        vertical-align: top;\n",
       "    }\n",
       "\n",
       "    .dataframe thead th {\n",
       "        text-align: right;\n",
       "    }\n",
       "</style>\n",
       "<table border=\"1\" class=\"dataframe\">\n",
       "  <thead>\n",
       "    <tr style=\"text-align: right;\">\n",
       "      <th></th>\n",
       "      <th>timestamp</th>\n",
       "      <th>Count</th>\n",
       "      <th>RumenT</th>\n",
       "    </tr>\n",
       "  </thead>\n",
       "  <tbody>\n",
       "    <tr>\n",
       "      <th>0</th>\n",
       "      <td>2012-11-22 00:00:00</td>\n",
       "      <td>3934.0</td>\n",
       "      <td>37.4</td>\n",
       "    </tr>\n",
       "    <tr>\n",
       "      <th>1</th>\n",
       "      <td>2012-11-22 01:00:00</td>\n",
       "      <td>NaN</td>\n",
       "      <td>NaN</td>\n",
       "    </tr>\n",
       "    <tr>\n",
       "      <th>2</th>\n",
       "      <td>2012-11-22 02:00:00</td>\n",
       "      <td>NaN</td>\n",
       "      <td>NaN</td>\n",
       "    </tr>\n",
       "    <tr>\n",
       "      <th>3</th>\n",
       "      <td>2012-11-22 03:00:00</td>\n",
       "      <td>NaN</td>\n",
       "      <td>NaN</td>\n",
       "    </tr>\n",
       "    <tr>\n",
       "      <th>4</th>\n",
       "      <td>2012-11-22 04:00:00</td>\n",
       "      <td>NaN</td>\n",
       "      <td>NaN</td>\n",
       "    </tr>\n",
       "  </tbody>\n",
       "</table>\n",
       "</div>"
      ],
      "text/plain": [
       "             timestamp   Count  RumenT\n",
       "0  2012-11-22 00:00:00  3934.0    37.4\n",
       "1  2012-11-22 01:00:00     NaN     NaN\n",
       "2  2012-11-22 02:00:00     NaN     NaN\n",
       "3  2012-11-22 03:00:00     NaN     NaN\n",
       "4  2012-11-22 04:00:00     NaN     NaN"
      ]
     },
     "execution_count": 27,
     "metadata": {},
     "output_type": "execute_result"
    }
   ],
   "source": [
    "dfh.head() # looks it coverted to hourly mean but it shows only the mean of first hour but for the rest hour its shows NaN values!!"
   ]
  },
  {
   "cell_type": "code",
   "execution_count": 29,
   "id": "049020f2",
   "metadata": {},
   "outputs": [
    {
     "data": {
      "text/html": [
       "<div>\n",
       "<style scoped>\n",
       "    .dataframe tbody tr th:only-of-type {\n",
       "        vertical-align: middle;\n",
       "    }\n",
       "\n",
       "    .dataframe tbody tr th {\n",
       "        vertical-align: top;\n",
       "    }\n",
       "\n",
       "    .dataframe thead th {\n",
       "        text-align: right;\n",
       "    }\n",
       "</style>\n",
       "<table border=\"1\" class=\"dataframe\">\n",
       "  <thead>\n",
       "    <tr style=\"text-align: right;\">\n",
       "      <th></th>\n",
       "      <th>timestamp</th>\n",
       "      <th>Count</th>\n",
       "      <th>RumenT</th>\n",
       "    </tr>\n",
       "  </thead>\n",
       "  <tbody>\n",
       "    <tr>\n",
       "      <th>0</th>\n",
       "      <td>2012-11-22 00:00:00</td>\n",
       "      <td>3934.000000</td>\n",
       "      <td>37.400000</td>\n",
       "    </tr>\n",
       "    <tr>\n",
       "      <th>1</th>\n",
       "      <td>2012-11-22 01:00:00</td>\n",
       "      <td>NaN</td>\n",
       "      <td>NaN</td>\n",
       "    </tr>\n",
       "    <tr>\n",
       "      <th>2</th>\n",
       "      <td>2012-11-22 02:00:00</td>\n",
       "      <td>NaN</td>\n",
       "      <td>NaN</td>\n",
       "    </tr>\n",
       "    <tr>\n",
       "      <th>3</th>\n",
       "      <td>2012-11-22 03:00:00</td>\n",
       "      <td>NaN</td>\n",
       "      <td>NaN</td>\n",
       "    </tr>\n",
       "    <tr>\n",
       "      <th>4</th>\n",
       "      <td>2012-11-22 04:00:00</td>\n",
       "      <td>NaN</td>\n",
       "      <td>NaN</td>\n",
       "    </tr>\n",
       "    <tr>\n",
       "      <th>5</th>\n",
       "      <td>2012-11-22 05:00:00</td>\n",
       "      <td>NaN</td>\n",
       "      <td>NaN</td>\n",
       "    </tr>\n",
       "    <tr>\n",
       "      <th>6</th>\n",
       "      <td>2012-11-22 06:00:00</td>\n",
       "      <td>NaN</td>\n",
       "      <td>NaN</td>\n",
       "    </tr>\n",
       "    <tr>\n",
       "      <th>7</th>\n",
       "      <td>2012-11-22 07:00:00</td>\n",
       "      <td>NaN</td>\n",
       "      <td>NaN</td>\n",
       "    </tr>\n",
       "    <tr>\n",
       "      <th>8</th>\n",
       "      <td>2012-11-22 08:00:00</td>\n",
       "      <td>NaN</td>\n",
       "      <td>NaN</td>\n",
       "    </tr>\n",
       "    <tr>\n",
       "      <th>9</th>\n",
       "      <td>2012-11-22 09:00:00</td>\n",
       "      <td>NaN</td>\n",
       "      <td>NaN</td>\n",
       "    </tr>\n",
       "    <tr>\n",
       "      <th>10</th>\n",
       "      <td>2012-11-22 10:00:00</td>\n",
       "      <td>NaN</td>\n",
       "      <td>NaN</td>\n",
       "    </tr>\n",
       "    <tr>\n",
       "      <th>11</th>\n",
       "      <td>2012-11-22 11:00:00</td>\n",
       "      <td>NaN</td>\n",
       "      <td>NaN</td>\n",
       "    </tr>\n",
       "    <tr>\n",
       "      <th>12</th>\n",
       "      <td>2012-11-22 12:00:00</td>\n",
       "      <td>NaN</td>\n",
       "      <td>NaN</td>\n",
       "    </tr>\n",
       "    <tr>\n",
       "      <th>13</th>\n",
       "      <td>2012-11-22 13:00:00</td>\n",
       "      <td>NaN</td>\n",
       "      <td>NaN</td>\n",
       "    </tr>\n",
       "    <tr>\n",
       "      <th>14</th>\n",
       "      <td>2012-11-22 14:00:00</td>\n",
       "      <td>NaN</td>\n",
       "      <td>NaN</td>\n",
       "    </tr>\n",
       "    <tr>\n",
       "      <th>15</th>\n",
       "      <td>2012-11-22 15:00:00</td>\n",
       "      <td>NaN</td>\n",
       "      <td>NaN</td>\n",
       "    </tr>\n",
       "    <tr>\n",
       "      <th>16</th>\n",
       "      <td>2012-11-22 16:00:00</td>\n",
       "      <td>NaN</td>\n",
       "      <td>NaN</td>\n",
       "    </tr>\n",
       "    <tr>\n",
       "      <th>17</th>\n",
       "      <td>2012-11-22 17:00:00</td>\n",
       "      <td>NaN</td>\n",
       "      <td>NaN</td>\n",
       "    </tr>\n",
       "    <tr>\n",
       "      <th>18</th>\n",
       "      <td>2012-11-22 18:00:00</td>\n",
       "      <td>NaN</td>\n",
       "      <td>NaN</td>\n",
       "    </tr>\n",
       "    <tr>\n",
       "      <th>19</th>\n",
       "      <td>2012-11-22 19:00:00</td>\n",
       "      <td>NaN</td>\n",
       "      <td>NaN</td>\n",
       "    </tr>\n",
       "    <tr>\n",
       "      <th>20</th>\n",
       "      <td>2012-11-22 20:00:00</td>\n",
       "      <td>NaN</td>\n",
       "      <td>NaN</td>\n",
       "    </tr>\n",
       "    <tr>\n",
       "      <th>21</th>\n",
       "      <td>2012-11-22 21:00:00</td>\n",
       "      <td>NaN</td>\n",
       "      <td>NaN</td>\n",
       "    </tr>\n",
       "    <tr>\n",
       "      <th>22</th>\n",
       "      <td>2012-11-22 22:00:00</td>\n",
       "      <td>NaN</td>\n",
       "      <td>NaN</td>\n",
       "    </tr>\n",
       "    <tr>\n",
       "      <th>23</th>\n",
       "      <td>2012-11-22 23:00:00</td>\n",
       "      <td>NaN</td>\n",
       "      <td>NaN</td>\n",
       "    </tr>\n",
       "    <tr>\n",
       "      <th>24</th>\n",
       "      <td>2012-11-23 00:00:00</td>\n",
       "      <td>4004.792453</td>\n",
       "      <td>39.748679</td>\n",
       "    </tr>\n",
       "    <tr>\n",
       "      <th>25</th>\n",
       "      <td>2012-11-23 01:00:00</td>\n",
       "      <td>NaN</td>\n",
       "      <td>NaN</td>\n",
       "    </tr>\n",
       "    <tr>\n",
       "      <th>26</th>\n",
       "      <td>2012-11-23 02:00:00</td>\n",
       "      <td>NaN</td>\n",
       "      <td>NaN</td>\n",
       "    </tr>\n",
       "    <tr>\n",
       "      <th>27</th>\n",
       "      <td>2012-11-23 03:00:00</td>\n",
       "      <td>NaN</td>\n",
       "      <td>NaN</td>\n",
       "    </tr>\n",
       "    <tr>\n",
       "      <th>28</th>\n",
       "      <td>2012-11-23 04:00:00</td>\n",
       "      <td>NaN</td>\n",
       "      <td>NaN</td>\n",
       "    </tr>\n",
       "    <tr>\n",
       "      <th>29</th>\n",
       "      <td>2012-11-23 05:00:00</td>\n",
       "      <td>NaN</td>\n",
       "      <td>NaN</td>\n",
       "    </tr>\n",
       "    <tr>\n",
       "      <th>30</th>\n",
       "      <td>2012-11-23 06:00:00</td>\n",
       "      <td>NaN</td>\n",
       "      <td>NaN</td>\n",
       "    </tr>\n",
       "    <tr>\n",
       "      <th>31</th>\n",
       "      <td>2012-11-23 07:00:00</td>\n",
       "      <td>NaN</td>\n",
       "      <td>NaN</td>\n",
       "    </tr>\n",
       "    <tr>\n",
       "      <th>32</th>\n",
       "      <td>2012-11-23 08:00:00</td>\n",
       "      <td>NaN</td>\n",
       "      <td>NaN</td>\n",
       "    </tr>\n",
       "    <tr>\n",
       "      <th>33</th>\n",
       "      <td>2012-11-23 09:00:00</td>\n",
       "      <td>NaN</td>\n",
       "      <td>NaN</td>\n",
       "    </tr>\n",
       "    <tr>\n",
       "      <th>34</th>\n",
       "      <td>2012-11-23 10:00:00</td>\n",
       "      <td>NaN</td>\n",
       "      <td>NaN</td>\n",
       "    </tr>\n",
       "    <tr>\n",
       "      <th>35</th>\n",
       "      <td>2012-11-23 11:00:00</td>\n",
       "      <td>NaN</td>\n",
       "      <td>NaN</td>\n",
       "    </tr>\n",
       "    <tr>\n",
       "      <th>36</th>\n",
       "      <td>2012-11-23 12:00:00</td>\n",
       "      <td>NaN</td>\n",
       "      <td>NaN</td>\n",
       "    </tr>\n",
       "    <tr>\n",
       "      <th>37</th>\n",
       "      <td>2012-11-23 13:00:00</td>\n",
       "      <td>NaN</td>\n",
       "      <td>NaN</td>\n",
       "    </tr>\n",
       "    <tr>\n",
       "      <th>38</th>\n",
       "      <td>2012-11-23 14:00:00</td>\n",
       "      <td>NaN</td>\n",
       "      <td>NaN</td>\n",
       "    </tr>\n",
       "    <tr>\n",
       "      <th>39</th>\n",
       "      <td>2012-11-23 15:00:00</td>\n",
       "      <td>NaN</td>\n",
       "      <td>NaN</td>\n",
       "    </tr>\n",
       "    <tr>\n",
       "      <th>40</th>\n",
       "      <td>2012-11-23 16:00:00</td>\n",
       "      <td>NaN</td>\n",
       "      <td>NaN</td>\n",
       "    </tr>\n",
       "    <tr>\n",
       "      <th>41</th>\n",
       "      <td>2012-11-23 17:00:00</td>\n",
       "      <td>NaN</td>\n",
       "      <td>NaN</td>\n",
       "    </tr>\n",
       "    <tr>\n",
       "      <th>42</th>\n",
       "      <td>2012-11-23 18:00:00</td>\n",
       "      <td>NaN</td>\n",
       "      <td>NaN</td>\n",
       "    </tr>\n",
       "    <tr>\n",
       "      <th>43</th>\n",
       "      <td>2012-11-23 19:00:00</td>\n",
       "      <td>NaN</td>\n",
       "      <td>NaN</td>\n",
       "    </tr>\n",
       "    <tr>\n",
       "      <th>44</th>\n",
       "      <td>2012-11-23 20:00:00</td>\n",
       "      <td>NaN</td>\n",
       "      <td>NaN</td>\n",
       "    </tr>\n",
       "    <tr>\n",
       "      <th>45</th>\n",
       "      <td>2012-11-23 21:00:00</td>\n",
       "      <td>NaN</td>\n",
       "      <td>NaN</td>\n",
       "    </tr>\n",
       "    <tr>\n",
       "      <th>46</th>\n",
       "      <td>2012-11-23 22:00:00</td>\n",
       "      <td>NaN</td>\n",
       "      <td>NaN</td>\n",
       "    </tr>\n",
       "    <tr>\n",
       "      <th>47</th>\n",
       "      <td>2012-11-23 23:00:00</td>\n",
       "      <td>NaN</td>\n",
       "      <td>NaN</td>\n",
       "    </tr>\n",
       "    <tr>\n",
       "      <th>48</th>\n",
       "      <td>2012-11-24 00:00:00</td>\n",
       "      <td>4240.500000</td>\n",
       "      <td>40.158974</td>\n",
       "    </tr>\n",
       "    <tr>\n",
       "      <th>49</th>\n",
       "      <td>2012-11-24 01:00:00</td>\n",
       "      <td>NaN</td>\n",
       "      <td>NaN</td>\n",
       "    </tr>\n",
       "  </tbody>\n",
       "</table>\n",
       "</div>"
      ],
      "text/plain": [
       "              timestamp        Count     RumenT\n",
       "0   2012-11-22 00:00:00  3934.000000  37.400000\n",
       "1   2012-11-22 01:00:00          NaN        NaN\n",
       "2   2012-11-22 02:00:00          NaN        NaN\n",
       "3   2012-11-22 03:00:00          NaN        NaN\n",
       "4   2012-11-22 04:00:00          NaN        NaN\n",
       "5   2012-11-22 05:00:00          NaN        NaN\n",
       "6   2012-11-22 06:00:00          NaN        NaN\n",
       "7   2012-11-22 07:00:00          NaN        NaN\n",
       "8   2012-11-22 08:00:00          NaN        NaN\n",
       "9   2012-11-22 09:00:00          NaN        NaN\n",
       "10  2012-11-22 10:00:00          NaN        NaN\n",
       "11  2012-11-22 11:00:00          NaN        NaN\n",
       "12  2012-11-22 12:00:00          NaN        NaN\n",
       "13  2012-11-22 13:00:00          NaN        NaN\n",
       "14  2012-11-22 14:00:00          NaN        NaN\n",
       "15  2012-11-22 15:00:00          NaN        NaN\n",
       "16  2012-11-22 16:00:00          NaN        NaN\n",
       "17  2012-11-22 17:00:00          NaN        NaN\n",
       "18  2012-11-22 18:00:00          NaN        NaN\n",
       "19  2012-11-22 19:00:00          NaN        NaN\n",
       "20  2012-11-22 20:00:00          NaN        NaN\n",
       "21  2012-11-22 21:00:00          NaN        NaN\n",
       "22  2012-11-22 22:00:00          NaN        NaN\n",
       "23  2012-11-22 23:00:00          NaN        NaN\n",
       "24  2012-11-23 00:00:00  4004.792453  39.748679\n",
       "25  2012-11-23 01:00:00          NaN        NaN\n",
       "26  2012-11-23 02:00:00          NaN        NaN\n",
       "27  2012-11-23 03:00:00          NaN        NaN\n",
       "28  2012-11-23 04:00:00          NaN        NaN\n",
       "29  2012-11-23 05:00:00          NaN        NaN\n",
       "30  2012-11-23 06:00:00          NaN        NaN\n",
       "31  2012-11-23 07:00:00          NaN        NaN\n",
       "32  2012-11-23 08:00:00          NaN        NaN\n",
       "33  2012-11-23 09:00:00          NaN        NaN\n",
       "34  2012-11-23 10:00:00          NaN        NaN\n",
       "35  2012-11-23 11:00:00          NaN        NaN\n",
       "36  2012-11-23 12:00:00          NaN        NaN\n",
       "37  2012-11-23 13:00:00          NaN        NaN\n",
       "38  2012-11-23 14:00:00          NaN        NaN\n",
       "39  2012-11-23 15:00:00          NaN        NaN\n",
       "40  2012-11-23 16:00:00          NaN        NaN\n",
       "41  2012-11-23 17:00:00          NaN        NaN\n",
       "42  2012-11-23 18:00:00          NaN        NaN\n",
       "43  2012-11-23 19:00:00          NaN        NaN\n",
       "44  2012-11-23 20:00:00          NaN        NaN\n",
       "45  2012-11-23 21:00:00          NaN        NaN\n",
       "46  2012-11-23 22:00:00          NaN        NaN\n",
       "47  2012-11-23 23:00:00          NaN        NaN\n",
       "48  2012-11-24 00:00:00  4240.500000  40.158974\n",
       "49  2012-11-24 01:00:00          NaN        NaN"
      ]
     },
     "execution_count": 29,
     "metadata": {},
     "output_type": "execute_result"
    }
   ],
   "source": [
    "dfh.head(50) # Why it shows NaN values for rest of the hours?"
   ]
  },
  {
   "cell_type": "code",
   "execution_count": 37,
   "id": "152de780",
   "metadata": {},
   "outputs": [],
   "source": [
    "#another try to plot rumen temperature for a particular date\n",
    "import pandas as pd\n",
    "import matplotlib.pyplot as plt\n",
    "\n",
    "# read the CSV file into a Pandas DataFrame\n",
    "df = pd.read_csv('CAAS2067.csv')\n",
    "\n",
    "# convert the timestamp column to a datetime object and set it as the index\n",
    "df = pd.read_csv(\"CAAS2067.csv\", parse_dates=[\"Date\"], index_col = \"Date\")\n",
    "\n"
   ]
  },
  {
   "cell_type": "code",
   "execution_count": 38,
   "id": "92d85ff0",
   "metadata": {},
   "outputs": [
    {
     "data": {
      "text/plain": [
       "DatetimeIndex(['2012-11-22', '2012-11-22', '2012-11-22', '2012-11-22',\n",
       "               '2012-11-22', '2012-11-22', '2012-11-22', '2012-11-22',\n",
       "               '2012-11-22', '2012-11-22',\n",
       "               ...\n",
       "               '2013-04-14', '2013-04-14', '2013-04-14', '2013-04-14',\n",
       "               '2013-04-14', '2013-04-14', '2013-04-14', '2013-04-14',\n",
       "               '2013-04-14', '2013-04-14'],\n",
       "              dtype='datetime64[ns]', name='Date', length=21039, freq=None)"
      ]
     },
     "execution_count": 38,
     "metadata": {},
     "output_type": "execute_result"
    }
   ],
   "source": [
    "df.index"
   ]
  },
  {
   "cell_type": "code",
   "execution_count": 44,
   "id": "05c86667",
   "metadata": {},
   "outputs": [
    {
     "data": {
      "image/png": "[encoded data removed]",
      "text/plain": [
       "<Figure size 432x288 with 1 Axes>"
      ]
     },
     "metadata": {
      "needs_background": "light"
     },
     "output_type": "display_data"
    }
   ],
   "source": [
    "# resample the data to hourly intervals and calculate the mean temperature for each hour\n",
    "hourly_temps = df.RumenT.resample('H').mean()\n",
    "\n",
    "# select the data for day 5 and plot it\n",
    "day1_temps = hourly_temps.loc['2012-11-22']\n",
    "plt.plot(day1_temps)\n",
    "plt.title('Hourly Average Rumen Temperature - Day 1')\n",
    "plt.xlabel('Time')\n",
    "plt.ylabel('Rumen Temperature (Celsius)')\n",
    "plt.show()\n",
    "# its empty!!"
   ]
  },
  {
   "cell_type": "code",
   "execution_count": 48,
   "id": "a6c648d9",
   "metadata": {},
   "outputs": [],
   "source": [
    "import pandas as pd\n",
    "import matplotlib.pyplot as plt\n",
    "import seaborn as sns\n",
    "\n",
    "# read the CSV file into a Pandas DataFrame\n",
    "df4 = pd.read_csv('CAAS2067.csv')\n",
    "\n",
    "# convert the timestamp column to a datetime object and set it as the index\n",
    "df4 = pd.read_csv(\"CAAS2067.csv\", parse_dates=[\"Date\"], index_col = \"Date\")\n",
    "\n"
   ]
  },
  {
   "cell_type": "code",
   "execution_count": 49,
   "id": "cb5ca62e",
   "metadata": {},
   "outputs": [
    {
     "data": {
      "text/plain": [
       "DatetimeIndex(['2012-11-22', '2012-11-22', '2012-11-22', '2012-11-22',\n",
       "               '2012-11-22', '2012-11-22', '2012-11-22', '2012-11-22',\n",
       "               '2012-11-22', '2012-11-22',\n",
       "               ...\n",
       "               '2013-04-14', '2013-04-14', '2013-04-14', '2013-04-14',\n",
       "               '2013-04-14', '2013-04-14', '2013-04-14', '2013-04-14',\n",
       "               '2013-04-14', '2013-04-14'],\n",
       "              dtype='datetime64[ns]', name='Date', length=21039, freq=None)"
      ]
     },
     "execution_count": 49,
     "metadata": {},
     "output_type": "execute_result"
    }
   ],
   "source": [
    "df4.index"
   ]
  },
  {
   "cell_type": "code",
   "execution_count": 54,
   "id": "d7893954",
   "metadata": {},
   "outputs": [
    {
     "name": "stderr",
     "output_type": "stream",
     "text": [
      "C:\\Users\\mrah7296\\Anaconda3\\lib\\site-packages\\seaborn\\distributions.py:316: UserWarning: Dataset has 0 variance; skipping density estimate. Pass `warn_singular=False` to disable this warning.\n",
      "  warnings.warn(msg, UserWarning)\n"
     ]
    },
    {
     "data": {
      "image/png": "[encoded data removed]",
      "text/plain": [
       "<Figure size 432x288 with 1 Axes>"
      ]
     },
     "metadata": {
      "needs_background": "light"
     },
     "output_type": "display_data"
    }
   ],
   "source": [
    "# resample the data to hourly intervals and calculate the mean temperature for each hour\n",
    "hourly_temps = df4.RumenT.resample('H').mean()\n",
    "\n",
    "# select the data for day 5 and create a density plot\n",
    "day5_temps = hourly_temps.loc['2012-11-22']\n",
    "sns.kdeplot(day5_temps, shade=True)\n",
    "plt.title('Hourly Average Rumen Temperature Density - Day 5')\n",
    "plt.xlabel('Temperature (Celsius)')\n",
    "plt.show()"
   ]
  },
  {
   "cell_type": "markdown",
   "id": "f8ab6a16",
   "metadata": {},
   "source": [
    "# Hourly series from minute series"
   ]
  },
  {
   "cell_type": "code",
   "execution_count": 55,
   "id": "d4e3a240",
   "metadata": {},
   "outputs": [],
   "source": [
    "import os"
   ]
  },
  {
   "cell_type": "code",
   "execution_count": 56,
   "id": "9e12f24c",
   "metadata": {},
   "outputs": [],
   "source": [
    "#working with multiple files at time\n",
    "input_dir=\"C:/PhD/Data/cbt\" #creating new working directory"
   ]
  },
  {
   "cell_type": "code",
   "execution_count": 57,
   "id": "e8d4f280",
   "metadata": {},
   "outputs": [
    {
     "name": "stdout",
     "output_type": "stream",
     "text": [
      "CAAS2072.csv\n",
      "CAAS2073.csv\n"
     ]
    }
   ],
   "source": [
    "#change directory containing all files in a list\n",
    "os.chdir(input_dir)\n",
    "for filename in os.listdir():\n",
    "    if filename.endswith(\".csv\"):\n",
    "        print(filename)"
   ]
  },
  {
   "cell_type": "code",
   "execution_count": 60,
   "id": "bd784715",
   "metadata": {},
   "outputs": [
    {
     "name": "stdout",
     "output_type": "stream",
     "text": [
      "            Count      Time  RumenT\n",
      "Date                               \n",
      "2012-11-22   3925  12:39:54   39.56\n",
      "2012-11-22   3926  12:49:04   41.56\n",
      "2012-11-22   3927  12:58:15   37.56\n",
      "2012-11-22   3928  13:07:25   35.56\n",
      "2012-11-22   3929  13:16:36   33.56\n",
      "...           ...       ...     ...\n",
      "2013-04-14  25873  11:57:13   40.00\n",
      "2013-04-14  25874  12:05:52   40.22\n",
      "2013-04-14  25875  12:15:16   40.22\n",
      "2013-04-14  25876  12:23:36   40.22\n",
      "2013-04-14  25877  12:34:05   40.22\n",
      "\n",
      "[20284 rows x 3 columns]\n",
      "            Count      Time  RumenT\n",
      "Date                               \n",
      "2012-11-22   3912  13:11:27   30.56\n",
      "2012-11-22   3913  13:20:28   30.56\n",
      "2012-11-22   3914  13:29:19   30.56\n",
      "2012-11-22   3915  13:38:17   30.56\n",
      "2012-11-22   3916  13:47:15   30.56\n",
      "...           ...       ...     ...\n",
      "2013-04-14  25692   6:16:51   44.72\n",
      "2013-04-14  25693   6:28:57   30.56\n",
      "2013-04-14  25694   6:41:02   44.72\n",
      "2013-04-14  25695   6:53:08   44.72\n",
      "2013-04-14  25696   7:05:13   44.72\n",
      "\n",
      "[20761 rows x 3 columns]\n"
     ]
    }
   ],
   "source": [
    "#convert Date objet to Datetime index\n",
    "os.chdir(input_dir)\n",
    "for filename in os.listdir():\n",
    "    if filename.endswith(\".csv\"):\n",
    "        df=pd.read_csv(filename, index_col=['Date'], parse_dates = ['Date'])\n",
    "        print(df)"
   ]
  },
  {
   "cell_type": "code",
   "execution_count": 61,
   "id": "ba46f543",
   "metadata": {},
   "outputs": [
    {
     "name": "stdout",
     "output_type": "stream",
     "text": [
      "                            Count     RumenT\n",
      "Date                                        \n",
      "2012-11-22 00:00:00   3961.500000  37.127568\n",
      "2012-11-22 01:00:00           NaN        NaN\n",
      "2012-11-22 02:00:00           NaN        NaN\n",
      "2012-11-22 03:00:00           NaN        NaN\n",
      "2012-11-22 04:00:00           NaN        NaN\n",
      "...                           ...        ...\n",
      "2013-04-13 20:00:00           NaN        NaN\n",
      "2013-04-13 21:00:00           NaN        NaN\n",
      "2013-04-13 22:00:00           NaN        NaN\n",
      "2013-04-13 23:00:00           NaN        NaN\n",
      "2013-04-14 00:00:00  25838.584416  39.510649\n",
      "\n",
      "[3433 rows x 2 columns]\n",
      "                            Count     RumenT\n",
      "Date                                        \n",
      "2012-11-22 00:00:00   3945.151515  37.847879\n",
      "2012-11-22 01:00:00           NaN        NaN\n",
      "2012-11-22 02:00:00           NaN        NaN\n",
      "2012-11-22 03:00:00           NaN        NaN\n",
      "2012-11-22 04:00:00           NaN        NaN\n",
      "...                           ...        ...\n",
      "2013-04-13 20:00:00           NaN        NaN\n",
      "2013-04-13 21:00:00           NaN        NaN\n",
      "2013-04-13 22:00:00           NaN        NaN\n",
      "2013-04-13 23:00:00           NaN        NaN\n",
      "2013-04-14 00:00:00  25679.545455  37.001212\n",
      "\n",
      "[3433 rows x 2 columns]\n"
     ]
    }
   ],
   "source": [
    "#convert minutes intervel to hourly mean\n",
    "os.chdir(input_dir)\n",
    "for filename in os.listdir():\n",
    "    if filename.endswith(\".csv\"):\n",
    "        df=pd.read_csv(filename, index_col=['Date'], parse_dates = ['Date'])\n",
    "        data_df = df.resample(\"H\").mean()\n",
    "        print(data_df)"
   ]
  },
  {
   "cell_type": "code",
   "execution_count": 62,
   "id": "3ddb1561",
   "metadata": {},
   "outputs": [],
   "source": [
    "#create new directory to save the coverted file\n",
    "path =\"C:/PhD/Data/downloads\"\n",
    "output_dir = os.path.join(path,'hourly_rumen_temp')\n",
    "if not os.path.exists(output_dir):\n",
    "    os.makedirs(output_dir)"
   ]
  },
  {
   "cell_type": "code",
   "execution_count": 64,
   "id": "a15b51b9",
   "metadata": {},
   "outputs": [
    {
     "name": "stdout",
     "output_type": "stream",
     "text": [
      "                            Count     RumenT\n",
      "Date                                        \n",
      "2012-11-22 00:00:00   3961.500000  37.127568\n",
      "2012-11-22 01:00:00           NaN        NaN\n",
      "2012-11-22 02:00:00           NaN        NaN\n",
      "2012-11-22 03:00:00           NaN        NaN\n",
      "2012-11-22 04:00:00           NaN        NaN\n",
      "...                           ...        ...\n",
      "2013-04-13 20:00:00           NaN        NaN\n",
      "2013-04-13 21:00:00           NaN        NaN\n",
      "2013-04-13 22:00:00           NaN        NaN\n",
      "2013-04-13 23:00:00           NaN        NaN\n",
      "2013-04-14 00:00:00  25838.584416  39.510649\n",
      "\n",
      "[3433 rows x 2 columns]\n",
      "                            Count     RumenT\n",
      "Date                                        \n",
      "2012-11-22 00:00:00   3945.151515  37.847879\n",
      "2012-11-22 01:00:00           NaN        NaN\n",
      "2012-11-22 02:00:00           NaN        NaN\n",
      "2012-11-22 03:00:00           NaN        NaN\n",
      "2012-11-22 04:00:00           NaN        NaN\n",
      "...                           ...        ...\n",
      "2013-04-13 20:00:00           NaN        NaN\n",
      "2013-04-13 21:00:00           NaN        NaN\n",
      "2013-04-13 22:00:00           NaN        NaN\n",
      "2013-04-13 23:00:00           NaN        NaN\n",
      "2013-04-14 00:00:00  25679.545455  37.001212\n",
      "\n",
      "[3433 rows x 2 columns]\n",
      "Conversion has been done successfully!\n"
     ]
    }
   ],
   "source": [
    "os.chdir(input_dir)\n",
    "for filename in os.listdir():\n",
    "    if filename.endswith(\".csv\"):\n",
    "        file_name, file_ext = os.path.splitext(filename)\n",
    "        new_name = \"{} {} {}\".format(file_name, '_hourly', file_ext)\n",
    "        df=pd.read_csv(filename, index_col=['Date'], parse_dates = ['Date'])\n",
    "        data_df = df.resample(\"H\").mean()\n",
    "        print(data_df)\n",
    "        data_df.to_csv(os.path.join(output_dir,new_name), index=True)\n",
    "print(\"Conversion has been done successfully!\")"
   ]
  },
  {
   "cell_type": "code",
   "execution_count": 67,
   "id": "bc4ad7d5",
   "metadata": {},
   "outputs": [
    {
     "name": "stdout",
     "output_type": "stream",
     "text": [
      "                            Count     RumenT\n",
      "Date                                        \n",
      "2012-11-22 00:00:00   3961.500000  37.127568\n",
      "2012-11-22 01:00:00           NaN        NaN\n",
      "2012-11-22 02:00:00           NaN        NaN\n",
      "2012-11-22 03:00:00           NaN        NaN\n",
      "2012-11-22 04:00:00           NaN        NaN\n",
      "...                           ...        ...\n",
      "2013-04-13 20:00:00           NaN        NaN\n",
      "2013-04-13 21:00:00           NaN        NaN\n",
      "2013-04-13 22:00:00           NaN        NaN\n",
      "2013-04-13 23:00:00           NaN        NaN\n",
      "2013-04-14 00:00:00  25838.584416  39.510649\n",
      "\n",
      "[3433 rows x 2 columns]\n",
      "Plotting rumen temperature\n"
     ]
    },
    {
     "data": {
      "image/png": "[encoded data removed]",
      "text/plain": [
       "<Figure size 828x612 with 1 Axes>"
      ]
     },
     "metadata": {
      "needs_background": "light"
     },
     "output_type": "display_data"
    },
    {
     "name": "stdout",
     "output_type": "stream",
     "text": [
      "                            Count     RumenT\n",
      "Date                                        \n",
      "2012-11-22 00:00:00   3945.151515  37.847879\n",
      "2012-11-22 01:00:00           NaN        NaN\n",
      "2012-11-22 02:00:00           NaN        NaN\n",
      "2012-11-22 03:00:00           NaN        NaN\n",
      "2012-11-22 04:00:00           NaN        NaN\n",
      "...                           ...        ...\n",
      "2013-04-13 20:00:00           NaN        NaN\n",
      "2013-04-13 21:00:00           NaN        NaN\n",
      "2013-04-13 22:00:00           NaN        NaN\n",
      "2013-04-13 23:00:00           NaN        NaN\n",
      "2013-04-14 00:00:00  25679.545455  37.001212\n",
      "\n",
      "[3433 rows x 2 columns]\n",
      "Plotting rumen temperature\n"
     ]
    },
    {
     "data": {
      "image/png": "[encoded data removed]",
      "text/plain": [
       "<Figure size 828x612 with 1 Axes>"
      ]
     },
     "metadata": {
      "needs_background": "light"
     },
     "output_type": "display_data"
    },
    {
     "name": "stdout",
     "output_type": "stream",
     "text": [
      "Conversion has been done successfully!\n"
     ]
    }
   ],
   "source": [
    "# trying to plot two animal's rumen temp data at the same plot but the result is horrible!!!\n",
    "%matplotlib inline\n",
    "os.chdir(input_dir)\n",
    "for filename in os.listdir():\n",
    "    if filename.endswith(\".csv\"):\n",
    "        file_name, file_ext = os.path.splitext(filename)\n",
    "        new_name = \"{} {} {}\".format(file_name, '_hourly', file_ext)\n",
    "        df=pd.read_csv(filename, index_col=['Date'], parse_dates = ['Date'])\n",
    "        data_df = df.resample(\"H\").mean()\n",
    "        print(data_df)\n",
    "        data_df.to_csv(os.path.join(output_dir,new_name), index=True)\n",
    "        ############################################################\n",
    "        print(\"Plotting rumen temperature\")\n",
    "        fig, ax = plt.subplots(figsize = (11.50, 8.50))\n",
    "        plt.grid(linestyle='-',linewidth=1.0)\n",
    "        ax.plot(df.index, df[\"{}\".format(df.columns[1])], color=\"grey\")\n",
    "        ax.plot(data_df.index, data_df[\"{}\".format(data_df.columns[1])], color=\"blue\")\n",
    "        ax.legend(['10-min rumenT', \"Hourly rumenT\"], ncol=1, fontsize = 16)\n",
    "        ax.set_xlabel(\"Time\", fontsize = 16)\n",
    "        ax.set_ylabel(\"Rumen temperature\", fontsize = 16)\n",
    "        ax.xaxis.set_tick_params(labelsize = 12)\n",
    "        ax.yaxis.set_tick_params(labelsize = 14)\n",
    "    \n",
    "        fig.tight_layout()\n",
    "        plt.show(block=False)\n",
    "        plt.pause(3)\n",
    "        plt.close()\n",
    "print(\"Conversion has been done successfully!\")"
   ]
  },
  {
   "cell_type": "code",
   "execution_count": null,
   "id": "7fd7a30e",
   "metadata": {},
   "outputs": [],
   "source": []
  }
 ],
 "metadata": {
  "kernelspec": {
   "display_name": "Python 3 (ipykernel)",
   "language": "python",
   "name": "python3"
  },
  "language_info": {
   "codemirror_mode": {
    "name": "ipython",
    "version": 3
   },
   "file_extension": ".py",
   "mimetype": "text/x-python",
   "name": "python",
   "nbconvert_exporter": "python",
   "pygments_lexer": "ipython3",
   "version": "3.9.12"
  }
 },
 "nbformat": 4,
 "nbformat_minor": 5
}
